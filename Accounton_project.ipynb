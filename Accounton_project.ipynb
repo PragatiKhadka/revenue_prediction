{
 "cells": [
  {
   "cell_type": "code",
   "execution_count": 2,
   "metadata": {},
   "outputs": [],
   "source": [
    "import json\n",
    "import pandas as pd\n",
    "import numpy as np\n",
    "from pandas import json_normalize\n",
    "\n",
    "# Opening JSON file\n",
    "f = open('/Users/Jorg/Accounton data/accounton_data.json')\n",
    "  \n",
    "# returns JSON object as \n",
    "# a dictionary\n",
    "raw_data = json.load(f)\n",
    "\n",
    "df = pd.json_normalize(raw_data)\n",
    "\n",
    "df1 = df[df['ebit.2019'].notna()]\n",
    "\n",
    "df1.to_csv('/Users/Jorg/Accounton data/clean_accounton.csv', index=False)\n"
   ]
  },
  {
   "cell_type": "code",
   "execution_count": 3,
   "metadata": {},
   "outputs": [
    {
     "ename": "ImportError",
     "evalue": "cannot import name 'profilereport' from 'pandas_profiling' (/Users/Jorg/BeCode/revenue_prediction/accountonvirtual/lib/python3.10/site-packages/pandas_profiling/__init__.py)",
     "output_type": "error",
     "traceback": [
      "\u001b[0;31m---------------------------------------------------------------------------\u001b[0m",
      "\u001b[0;31mImportError\u001b[0m                               Traceback (most recent call last)",
      "\u001b[1;32m/Users/Jorg/BeCode/revenue_prediction/Accounton_project.ipynb Cell 2'\u001b[0m in \u001b[0;36m<cell line: 8>\u001b[0;34m()\u001b[0m\n\u001b[1;32m      <a href='vscode-notebook-cell:/Users/Jorg/BeCode/revenue_prediction/Accounton_project.ipynb#ch0000001?line=5'>6</a>\u001b[0m \u001b[39mimport\u001b[39;00m \u001b[39mmatplotlib\u001b[39;00m\u001b[39m.\u001b[39;00m\u001b[39mpyplot\u001b[39;00m \u001b[39mas\u001b[39;00m \u001b[39mplt\u001b[39;00m\n\u001b[1;32m      <a href='vscode-notebook-cell:/Users/Jorg/BeCode/revenue_prediction/Accounton_project.ipynb#ch0000001?line=6'>7</a>\u001b[0m \u001b[39m#from markupsafe import soft_unicode\u001b[39;00m\n\u001b[0;32m----> <a href='vscode-notebook-cell:/Users/Jorg/BeCode/revenue_prediction/Accounton_project.ipynb#ch0000001?line=7'>8</a>\u001b[0m \u001b[39mfrom\u001b[39;00m \u001b[39mpandas_profiling\u001b[39;00m \u001b[39mimport\u001b[39;00m profilereport\n\u001b[1;32m     <a href='vscode-notebook-cell:/Users/Jorg/BeCode/revenue_prediction/Accounton_project.ipynb#ch0000001?line=9'>10</a>\u001b[0m \u001b[39m# Opening JSON file\u001b[39;00m\n\u001b[1;32m     <a href='vscode-notebook-cell:/Users/Jorg/BeCode/revenue_prediction/Accounton_project.ipynb#ch0000001?line=10'>11</a>\u001b[0m f \u001b[39m=\u001b[39m \u001b[39mopen\u001b[39m(\u001b[39m'\u001b[39m\u001b[39m/Users/Jorg/Accounton data/accounton_data.json\u001b[39m\u001b[39m'\u001b[39m)\n",
      "\u001b[0;31mImportError\u001b[0m: cannot import name 'profilereport' from 'pandas_profiling' (/Users/Jorg/BeCode/revenue_prediction/accountonvirtual/lib/python3.10/site-packages/pandas_profiling/__init__.py)"
     ]
    }
   ],
   "source": [
    "import json\n",
    "import pandas as pd\n",
    "import numpy as np\n",
    "from pandas import json_normalize\n",
    "import seaborn as sn\n",
    "import matplotlib.pyplot as plt\n",
    "#from markupsafe import soft_unicode\n",
    "from pandas_profiling import profilereport\n",
    "\n",
    "# Opening JSON file\n",
    "f = open('/Users/Jorg/Accounton data/accounton_data.json')\n",
    "  \n",
    "# returns JSON object as \n",
    "# a dictionary\n",
    "raw_data = json.load(f)\n",
    "\n",
    "df = pd.json_normalize(raw_data)\n",
    "\n",
    "df1 = df[df['ebit.2019'].notna()]\n",
    "\n",
    "sn.set(rc={'figure.figsize':(40,40)})\n",
    "\n",
    "n_varriables=['ebit.2020', 'ebit.2019', 'ebit.2018', 'ebit.2017', 'ebit.2016',\n",
    "       'ebit.2015', 'ebitda.2020', 'ebitda.2019', 'ebitda.2018', 'ebitda.2017',\n",
    "       'ebitda.2016', 'ebitda.2015', 'profit_and_loss_after_taxes.2020',\n",
    "       'profit_and_loss_after_taxes.2019', 'profit_and_loss_after_taxes.2018',\n",
    "       'profit_and_loss_after_taxes.2017', 'profit_and_loss_after_taxes.2016',\n",
    "       'profit_and_loss_after_taxes.2015', 'total_assets.2020',\n",
    "       'total_assets.2019', 'total_assets.2018', 'total_assets.2017',\n",
    "       'total_assets.2016', 'total_assets.2015', 'total_liabilities.2020',\n",
    "       'total_liabilities.2019', 'total_liabilities.2018',\n",
    "       'total_liabilities.2017', 'total_liabilities.2016',\n",
    "       'total_liabilities.2015', 'operating_profit_and_loss.2020',\n",
    "       'operating_profit_and_loss.2019', 'operating_profit_and_loss.2018',\n",
    "       'operating_profit_and_loss.2017', 'operating_profit_and_loss.2016',\n",
    "       'operating_profit_and_loss.2015', 'financial_profit_and_loss.2020',\n",
    "       'financial_profit_and_loss.2019', 'financial_profit_and_loss.2018',\n",
    "       'financial_profit_and_loss.2017', 'financial_profit_and_loss.2016',\n",
    "       'financial_profit_and_loss.2015', 'staff_count.2020',\n",
    "       'staff_count.2019', 'staff_count.2018', 'staff_count.2017',\n",
    "       'staff_count.2016', 'staff_count.2015', 'revenue.2020', 'revenue.2019',\n",
    "       'revenue.2018', 'revenue.2017', 'revenue.2016', 'revenue.2015',\n",
    "       'net_added_value.2020', 'net_added_value.2019', 'net_added_value.2018',\n",
    "       'net_added_value.2017', 'net_added_value.2016', 'net_added_value.2015',\n",
    "       'staff_costs.2020', 'staff_costs.2019', 'staff_costs.2018',\n",
    "       'staff_costs.2016', 'staff_costs.2017', 'staff_costs.2015']\n",
    "\n",
    "profile = profilereport(df1, title=\"Pandas Profiling Report\")"
   ]
  },
  {
   "cell_type": "code",
   "execution_count": 5,
   "metadata": {},
   "outputs": [
    {
     "name": "stdout",
     "output_type": "stream",
     "text": [
      "Coefficients: [[-3.7020626  -4.0526391   2.45950952  5.59416646]\n",
      " [-3.94331969 -4.49198488  2.60062696  6.26509027]]\n",
      "Intercept: [1707119.30043111 1838310.68642287]\n",
      "Coefficient of determination (R^2): 0.089\n",
      "Mean squared error (MSE): 1408128190689449.000\n",
      "Root mean squared error (RMSE) : 37525034.186\n"
     ]
    }
   ],
   "source": [
    "import json\n",
    "import pandas as pd\n",
    "import numpy as np\n",
    "from pandas import json_normalize\n",
    "import seaborn as sn\n",
    "import matplotlib.pyplot as plt\n",
    "\n",
    "\n",
    "# Opening JSON file\n",
    "f = open('/Users/Jorg/Accounton data/clean_accounton.csv')\n",
    "  \n",
    "df1 = pd.read_csv(f)\n",
    "\n",
    "\n",
    "X = df1[['total_assets.2020',\n",
    "       'total_assets.2019', 'total_liabilities.2020',\n",
    "       'total_liabilities.2019']]\n",
    "y = df1[['revenue.2020', 'revenue.2019']]\n",
    "\n",
    "from sklearn.model_selection import train_test_split\n",
    "\n",
    "X_train, X_test, y_train, y_test = train_test_split(X, y, test_size=0.2)\n",
    "\n",
    "from sklearn  import linear_model \n",
    "from sklearn.metrics import mean_squared_error, r2_score, mean_absolute_error\n",
    "from math import sqrt\n",
    "\n",
    "# Train the model\n",
    "model = linear_model.LinearRegression()\n",
    "model.fit(X, y)\n",
    "y_hat = model.predict(X_test)\n",
    "\n",
    "# Model performance\n",
    "print('Coefficients:', model.coef_)\n",
    "print('Intercept:', model.intercept_)\n",
    "print('Coefficient of determination (R^2): %.3f' % r2_score(y_test, y_hat))\n",
    "print('Mean squared error (MSE): %.3f'% mean_squared_error(y_test, y_hat))\n",
    "print('Root mean squared error (RMSE) : %.3f'% sqrt(mean_squared_error(y_test, y_hat)) )\n"
   ]
  }
 ],
 "metadata": {
  "kernelspec": {
   "display_name": "Python 3.10.5 ('accountonvirtual': venv)",
   "language": "python",
   "name": "python3"
  },
  "language_info": {
   "codemirror_mode": {
    "name": "ipython",
    "version": 3
   },
   "file_extension": ".py",
   "mimetype": "text/x-python",
   "name": "python",
   "nbconvert_exporter": "python",
   "pygments_lexer": "ipython3",
   "version": "3.10.5"
  },
  "orig_nbformat": 4,
  "vscode": {
   "interpreter": {
    "hash": "b6a42b913f3c80c671f321ba05c5faad77cd5855f89753ab12189dd7cd5f3519"
   }
  }
 },
 "nbformat": 4,
 "nbformat_minor": 2
}
