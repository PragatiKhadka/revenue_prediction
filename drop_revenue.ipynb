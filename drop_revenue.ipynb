{
 "cells": [
  {
   "cell_type": "code",
   "execution_count": null,
   "id": "d0aeb6c5",
   "metadata": {},
   "outputs": [],
   "source": [
    "# Packages / libraries\n",
    "import numpy as np \n",
    "import pandas as pd\n",
    "import json\n",
    "import datetime as dt"
   ]
  },
  {
   "cell_type": "code",
   "execution_count": null,
   "id": "3e5b055e",
   "metadata": {},
   "outputs": [],
   "source": [
    "# To change scientific numbers to float\n",
    "np.set_printoptions(formatter={'float_kind':'{:f}'.format})\n",
    "\n",
    "# view all the dataframe\n",
    "pd.set_option('display.max_columns', None)\n",
    "\n",
    "# remove warnings\n",
    "import warnings\n",
    "warnings.filterwarnings(\"ignore\")"
   ]
  },
  {
   "cell_type": "code",
   "execution_count": null,
   "id": "46b80a75",
   "metadata": {},
   "outputs": [],
   "source": [
    "# Loading the data\n",
    "\n",
    "with open(r\"accounton_data.json\",'r') as f:\n",
    "    raw_data = json.loads(f.read())"
   ]
  },
  {
   "cell_type": "code",
   "execution_count": null,
   "id": "8c43d96b",
   "metadata": {},
   "outputs": [],
   "source": [
    "# Flatten data\n",
    "data = pd.json_normalize(raw_data)"
   ]
  },
  {
   "cell_type": "code",
   "execution_count": null,
   "id": "044278c3",
   "metadata": {},
   "outputs": [],
   "source": [
    "# convert the CreationDate column into DateTime type Delet the companies the created after 2019 because it had many NaN values\n",
    "data['creation_date'] = pd.to_datetime(data['creation_date']).dt.to_period('Y')\n",
    "data.head()"
   ]
  },
  {
   "cell_type": "code",
   "execution_count": null,
   "id": "52566234",
   "metadata": {},
   "outputs": [],
   "source": [
    "# Save the rows tha have values .. deleting the rows that have all NAN values\n",
    "df1 = data[data['ebit.2019'].notna()]"
   ]
  },
  {
   "cell_type": "code",
   "execution_count": null,
   "id": "2fccf8a5",
   "metadata": {},
   "outputs": [],
   "source": [
    "# Split the Nace_code to git the first 2 digits\n",
    "df1['Nace_code'] = df1['nace_code'].str[0:2]"
   ]
  },
  {
   "cell_type": "code",
   "execution_count": null,
   "id": "e9563771",
   "metadata": {},
   "outputs": [],
   "source": [
    "# making the reshape \n",
    "# create a dataframe to save and arrange the data \n",
    "reshape_df = pd.DataFrame()\n",
    "# creat the final complete data frame\n",
    "full_df = pd.DataFrame()\n",
    "# determine the years and the features\n",
    "years = ['2015', '2016','2017', '2018','2019']\n",
    "Features = ['ebit', 'ebitda' , 'profit_and_loss_after_taxes' , 'total_assets' , 'total_liabilities' ,\n",
    "    'operating_profit_and_loss' , 'financial_profit_and_loss' ,\n",
    "    'staff_count' , 'net_added_value' , 'staff_costs']\n",
    "# Loop to access the data from the original dataframe and assigh it in the new dataframe\n",
    "for y in years:\n",
    "                \n",
    "                # reshape_df['vat_number'] = df1['vat_number']\n",
    "                reshape_df['vat_number']= df1['vat_number']\n",
    "                reshape_df['company_category'] = df1['company_category']\n",
    "                reshape_df['province'] = df1['province']\n",
    "                reshape_df['nace_code'] = df1['nace_code']\n",
    "                reshape_df['Nace_code'] = df1['Nace_code']\n",
    "                reshape_df['Year'] = y\n",
    "                \n",
    "                for f in Features:\n",
    "                    reshape_df[f\"{f}\"] = df1[f\"{f}.{y}\"]\n",
    "                reshape_df[f\"current_revenue\"] = df1[f\"revenue.{y}\"]\n",
    "                reshape_df[f\"next_year_revenue\"] = df1[f\"revenue.{str(int(y)+1)}\"]\n",
    "                full_df = pd.concat([full_df,reshape_df], axis=0)"
   ]
  },
  {
   "cell_type": "code",
   "execution_count": null,
   "id": "5476efc4",
   "metadata": {},
   "outputs": [],
   "source": [
    "full_df_after_drop = full_df.dropna(subset=['current_revenue'])\n",
    "full_df_after_drop.shape"
   ]
  },
  {
   "cell_type": "code",
   "execution_count": null,
   "id": "fbb16489",
   "metadata": {},
   "outputs": [],
   "source": [
    "full_df_after_drop = full_df_after_drop.dropna(subset=['next_year_revenue'])\n",
    "full_df_after_drop.shape"
   ]
  },
  {
   "cell_type": "code",
   "execution_count": null,
   "id": "d18247f6",
   "metadata": {},
   "outputs": [],
   "source": [
    "company_cat = full_df_after_drop['company_category'].unique()\n",
    "company_cat"
   ]
  },
  {
   "cell_type": "code",
   "execution_count": null,
   "id": "8869aece",
   "metadata": {},
   "outputs": [],
   "source": [
    "province = full_df_after_drop['province'].unique()\n",
    "province"
   ]
  },
  {
   "cell_type": "code",
   "execution_count": null,
   "id": "c519b9ca",
   "metadata": {},
   "outputs": [],
   "source": [
    "full_df_after_drop.head()"
   ]
  },
  {
   "cell_type": "code",
   "execution_count": null,
   "id": "60c955e1",
   "metadata": {},
   "outputs": [],
   "source": [
    "years = full_df_after_drop['Year'].unique()\n",
    "years"
   ]
  },
  {
   "cell_type": "code",
   "execution_count": null,
   "id": "3923b915",
   "metadata": {},
   "outputs": [],
   "source": [
    "nace_code_list = list(full_df_after_drop['Nace_code'])\n",
    "Features = ['ebit', 'total_liabilities' , 'net_added_value' , 'staff_costs']"
   ]
  },
  {
   "cell_type": "code",
   "execution_count": null,
   "id": "0303ff1b",
   "metadata": {},
   "outputs": [],
   "source": [
    "# fill the NAN values in each feature based on the median values of the same category in same provine and activites\n",
    "median_df =full_df_after_drop.groupby(['company_category', 'province', 'Nace_code']).median()\n",
    "for each_category in company_cat:\n",
    "    for each_province in province:\n",
    "        i = median_df.loc[each_category, each_province]\n",
    "        nace_list = i.index\n",
    "        nace_list = list(nace_list)\n",
    "        for nc in nace_list:\n",
    "            for feature in Features:\n",
    "                median = median_df.loc[(each_category, each_province, nc),f'{feature}']\n",
    "                full_df_after_drop[f'{feature}'].fillna(median, inplace=True)"
   ]
  },
  {
   "cell_type": "code",
   "execution_count": null,
   "id": "80efc37d",
   "metadata": {},
   "outputs": [],
   "source": [
    "# staff cost according to the staff_count\n",
    "\n",
    "median_df =full_df_after_drop.groupby(['company_category', 'province', 'Nace_code']).median()\n",
    "\n",
    "for each_category in company_cat:\n",
    "    for each_province in province:\n",
    "        i = median_df.loc[each_category, each_province]\n",
    "        nace_list = i.index\n",
    "        nace_list = list(nace_list)\n",
    "        for nc in nace_list:\n",
    "            median = median_df.loc[(each_category, each_province, nc), 'staff_costs']\n",
    "            full_df_after_drop.loc[(full_df_after_drop['company_category'] == each_category) &\n",
    "                                   (full_df_after_drop['province'] == each_province) &\n",
    "                                   (full_df_after_drop['Nace_code'] == nc) &\n",
    "                                   (full_df_after_drop['staff_count'].isna()) & \n",
    "                                   (full_df_after_drop['staff_costs']==0.0), 'staff_costs'] = median\n",
    "\n"
   ]
  },
  {
   "cell_type": "code",
   "execution_count": null,
   "id": "cc17228f",
   "metadata": {},
   "outputs": [],
   "source": [
    "## plots for the corr matrix for selecting the features"
   ]
  },
  {
   "cell_type": "code",
   "execution_count": null,
   "id": "4ca948d0",
   "metadata": {},
   "outputs": [],
   "source": [
    "full_df_after_drop = full_df_after_drop[['company_category', 'province', 'ebit', 'total_liabilities', 'net_added_value', 'staff_costs', 'current_revenue', 'next_year_revenue']]"
   ]
  },
  {
   "cell_type": "code",
   "execution_count": null,
   "id": "54ca1dc9",
   "metadata": {},
   "outputs": [],
   "source": [
    "# Converting the categorical data of (Company_category and province) into numerical \n",
    "df_category = pd.get_dummies(full_df_after_drop['company_category'])\n",
    "df_cat = pd.concat([full_df_after_drop, df_category], axis=1)"
   ]
  },
  {
   "cell_type": "code",
   "execution_count": null,
   "id": "20f844d5",
   "metadata": {
    "scrolled": true
   },
   "outputs": [],
   "source": [
    "df_province = pd.get_dummies(full_df_after_drop['province'])\n",
    "df_training = pd.concat([df_cat, df_province], axis=1)\n",
    "df_training"
   ]
  },
  {
   "cell_type": "code",
   "execution_count": null,
   "id": "95e8823e",
   "metadata": {},
   "outputs": [],
   "source": [
    "# select the features and create the final dataset\n",
    "df_training= df_training.drop(columns=['company_category', 'province'])\n",
    "df_training.head()"
   ]
  },
  {
   "cell_type": "code",
   "execution_count": null,
   "id": "d22a5dda",
   "metadata": {},
   "outputs": [],
   "source": []
  }
 ],
 "metadata": {
  "kernelspec": {
   "display_name": "env_ml",
   "language": "python",
   "name": "env_ml"
  },
  "language_info": {
   "codemirror_mode": {
    "name": "ipython",
    "version": 3
   },
   "file_extension": ".py",
   "mimetype": "text/x-python",
   "name": "python",
   "nbconvert_exporter": "python",
   "pygments_lexer": "ipython3",
   "version": "3.10.2"
  }
 },
 "nbformat": 4,
 "nbformat_minor": 5
}
