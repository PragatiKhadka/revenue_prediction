{
 "cells": [
  {
   "cell_type": "markdown",
   "id": "99795ae6",
   "metadata": {},
   "source": [
    "# Machine Learning (revenue_prediction)"
   ]
  },
  {
   "cell_type": "code",
   "execution_count": 2,
   "id": "36be3d3e",
   "metadata": {},
   "outputs": [],
   "source": [
    "# Packages / libraries\n",
    "import os\n",
    "import numpy as np \n",
    "import pandas as pd\n",
    "from matplotlib import pyplot as plt\n",
    "import seaborn as sns\n",
    "from sklearn.linear_model import LinearRegression\n",
    "from sklearn.model_selection import train_test_split\n",
    "from sklearn.metrics import r2_score, explained_variance_score, mean_absolute_error, mean_squared_error\n",
    "from math import sqrt\n",
    "import json\n",
    "import datetime as dt"
   ]
  },
  {
   "cell_type": "code",
   "execution_count": 4,
   "id": "3fd5fbcf",
   "metadata": {},
   "outputs": [],
   "source": [
    "# To change scientific numbers to float\n",
    "np.set_printoptions(formatter={'float_kind':'{:f}'.format})\n",
    "\n",
    "# Increases the size of sns plots\n",
    "sns.set(rc={'figure.figsize':(5,5)})\n",
    "\n",
    "# view all the dataframe\n",
    "pd.set_option('display.max_columns', None)\n",
    "#pd.set_option('display.max_rows', None)\n",
    "\n",
    "# remove warnings\n",
    "import warnings\n",
    "warnings.filterwarnings(\"ignore\")"
   ]
  },
  {
   "cell_type": "markdown",
   "id": "5aad68a4",
   "metadata": {},
   "source": [
    "## Loading the Raw Data"
   ]
  },
  {
   "cell_type": "code",
   "execution_count": 5,
   "id": "8f498dbb",
   "metadata": {},
   "outputs": [],
   "source": [
    "# Loading the data\n",
    "\n",
    "with open(r\"C:\\Users\\user\\Downloads\\accounton_data.json\\accounton_data.json\",'r') as f:\n",
    "    raw_data = json.loads(f.read())"
   ]
  },
  {
   "cell_type": "code",
   "execution_count": 6,
   "id": "3971ae1f",
   "metadata": {},
   "outputs": [],
   "source": [
    "# Flatten data\n",
    "data = pd.json_normalize(raw_data)\n"
   ]
  },
  {
   "cell_type": "markdown",
   "id": "6eb85b53",
   "metadata": {},
   "source": [
    "# Data Preprocessing"
   ]
  },
  {
   "cell_type": "code",
   "execution_count": 7,
   "id": "051e9f6e",
   "metadata": {},
   "outputs": [],
   "source": [
    "# convert the CreationDate column into DateTime type Delet the companies the created after 2019 because it had many NaN values\n",
    "data['creation_date'] = pd.to_datetime(data['creation_date']).dt.to_period('Y')"
   ]
  },
  {
   "cell_type": "markdown",
   "id": "83b32683",
   "metadata": {},
   "source": [
    "## Checking for the duplicated values"
   ]
  },
  {
   "cell_type": "code",
   "execution_count": 8,
   "id": "4d011c99",
   "metadata": {},
   "outputs": [],
   "source": [
    "# checking the duplicated company\n",
    "bool_series = data.duplicated()"
   ]
  },
  {
   "cell_type": "markdown",
   "id": "3e2b0a0e",
   "metadata": {},
   "source": [
    "##  Checking for NULL Values"
   ]
  },
  {
   "cell_type": "code",
   "execution_count": 9,
   "id": "c940d90e",
   "metadata": {},
   "outputs": [
    {
     "data": {
      "text/plain": [
       "company_name            0\n",
       "nace_code               0\n",
       "vat_number              0\n",
       "zipcode                 0\n",
       "city                    0\n",
       "                    ...  \n",
       "staff_costs.2019    31132\n",
       "staff_costs.2018    31569\n",
       "staff_costs.2016    32485\n",
       "staff_costs.2017    33830\n",
       "staff_costs.2015    23800\n",
       "Length: 75, dtype: int64"
      ]
     },
     "execution_count": 9,
     "metadata": {},
     "output_type": "execute_result"
    }
   ],
   "source": [
    "# Checking for null values\n",
    "data.isnull().sum()"
   ]
  },
  {
   "cell_type": "code",
   "execution_count": 62,
   "id": "92e2201a",
   "metadata": {},
   "outputs": [],
   "source": [
    "# Save the rows tha have values .. deleting the rows that have all NAN values\n",
    "df1 = data[data['ebit.2019'].notna()]"
   ]
  },
  {
   "cell_type": "code",
   "execution_count": 63,
   "id": "3253e093",
   "metadata": {},
   "outputs": [],
   "source": [
    "# Split the Nace_code to git the first 2 digits\n",
    "df1['Nace_code'] = df1['nace_code'].str[0:2]"
   ]
  },
  {
   "cell_type": "code",
   "execution_count": 64,
   "id": "ac94106b",
   "metadata": {},
   "outputs": [],
   "source": [
    "df1 = df1.drop(columns=['company_name', 'zipcode', 'city', 'creation_date', 'legal_form'])"
   ]
  },
  {
   "cell_type": "code",
   "execution_count": 65,
   "id": "f54526b9",
   "metadata": {},
   "outputs": [],
   "source": [
    "company_cat = ['Large', 'Medium sized','Small','Very large']\n",
    "province =  ['Antwerp','East-Flanders','Limburg','Vlaams Brabant','West-Flanders']\n",
    "nace_code_list = list(df1['Nace_code'])\n",
    "\n",
    "years = ['2015', '2016','2017', '2018','2019','2020']\n",
    "Features = ['ebit', 'ebitda' , 'profit_and_loss_after_taxes' , 'total_assets' , 'total_liabilities' ,\n",
    "    'operating_profit_and_loss' , 'financial_profit_and_loss' ,\n",
    "    'staff_count' , 'net_added_value' , 'staff_costs','revenue']\n",
    "    "
   ]
  },
  {
   "cell_type": "code",
   "execution_count": 66,
   "id": "7f8c71a1",
   "metadata": {},
   "outputs": [],
   "source": [
    "# fill the NAN values in each feature based on the median values of the same category in same provine and activites\n",
    "\n",
    "for each_category in company_cat:\n",
    "    for each_province in province:\n",
    "        median_df =df1.groupby(['company_category', 'province', 'Nace_code']).median()\n",
    "        if each_category == \"Large\" and each_province == 'Antwerp':\n",
    "            i = median_df.loc[each_category, each_province]\n",
    "            nace_list = i.index\n",
    "            nace_list = list(nace_list)\n",
    "            for nc in nace_list:\n",
    "                for feature in Features:\n",
    "                    for year in years:\n",
    "                        median = median_df.loc[(each_category, each_province, nc),f'{feature}.{year}']\n",
    "                        df1[f'{feature}.{year}'].fillna(median, inplace=True)"
   ]
  },
  {
   "cell_type": "code",
   "execution_count": 67,
   "id": "49261b3d",
   "metadata": {},
   "outputs": [
    {
     "data": {
      "text/plain": [
       "0"
      ]
     },
     "execution_count": 67,
     "metadata": {},
     "output_type": "execute_result"
    }
   ],
   "source": [
    "df1['revenue.2019'].isna().sum()"
   ]
  },
  {
   "cell_type": "markdown",
   "id": "f95b941a",
   "metadata": {},
   "source": [
    "# Reshape the data frame\n",
    "### inorder to creat a new dataframe that appear the companies data based on year"
   ]
  },
  {
   "cell_type": "code",
   "execution_count": 68,
   "id": "ad046993",
   "metadata": {},
   "outputs": [],
   "source": [
    "# making the reshape \n",
    "# create a dataframe to save and arrange the data \n",
    "reshape_df = pd.DataFrame()\n",
    "# creat the final complete data frame\n",
    "full_df = pd.DataFrame()\n",
    "# determine the years and the features\n",
    "years = ['2015', '2016','2017', '2018','2019']\n",
    "Features = ['ebit', 'ebitda' , 'profit_and_loss_after_taxes' , 'total_assets' , 'total_liabilities' ,\n",
    "    'operating_profit_and_loss' , 'financial_profit_and_loss' ,\n",
    "    'staff_count' , 'net_added_value' , 'staff_costs']\n",
    "# Loop to access the data from the original dataframe and assigh it in the new dataframe\n",
    "for y in years:\n",
    "                \n",
    "                # reshape_df['vat_number'] = df1['vat_number']\n",
    "                reshape_df['vat_number']= df1['vat_number']\n",
    "                reshape_df['company_category'] = df1['company_category']\n",
    "                reshape_df['province'] = df1['province']\n",
    "                reshape_df['nace_code'] = df1['nace_code']\n",
    "                reshape_df['Nace_code'] = df1['Nace_code']\n",
    "                reshape_df['Year'] = y\n",
    "                \n",
    "                for f in Features:\n",
    "                    reshape_df[f\"{f}\"] = df1[f\"{f}.{y}\"]\n",
    "                reshape_df[f\"current_revenue\"] = df1[f\"revenue.{y}\"]\n",
    "                reshape_df[f\"next_year_revenue\"] = df1[f\"revenue.{str(int(y)+1)}\"]\n",
    "                full_df = pd.concat([full_df,reshape_df], axis=0)\n"
   ]
  },
  {
   "cell_type": "code",
   "execution_count": null,
   "id": "07e73252",
   "metadata": {},
   "outputs": [],
   "source": [
    "full_df.isna().sum()"
   ]
  },
  {
   "cell_type": "code",
   "execution_count": null,
   "id": "81a0333e",
   "metadata": {},
   "outputs": [],
   "source": [
    "full_df = full_df.sort_values(['vat_number','Year'])\n",
    "full_df"
   ]
  },
  {
   "cell_type": "code",
   "execution_count": 72,
   "id": "91ac483b",
   "metadata": {},
   "outputs": [],
   "source": [
    "full_df = full_df[['company_category', 'province', 'ebit', 'total_liabilities', 'net_added_value', 'staff_costs', 'current_revenue', 'next_year_revenue']]\n"
   ]
  },
  {
   "cell_type": "code",
   "execution_count": null,
   "id": "ba8d0722",
   "metadata": {},
   "outputs": [],
   "source": [
    "full_df"
   ]
  },
  {
   "cell_type": "code",
   "execution_count": 74,
   "id": "2cfbfd62",
   "metadata": {},
   "outputs": [],
   "source": [
    "# Converting the categorical data of (Company_category and province) into numerical \n",
    "df_category = pd.get_dummies(full_df['company_category'])\n",
    "df_new = pd.concat([full_df, df_category], axis=1)\n"
   ]
  },
  {
   "cell_type": "code",
   "execution_count": null,
   "id": "f20e3933",
   "metadata": {},
   "outputs": [],
   "source": [
    "df_province = pd.get_dummies(full_df['province'])\n",
    "df_new = pd.concat([df_new, df_province], axis=1)\n",
    "df_new"
   ]
  },
  {
   "cell_type": "markdown",
   "id": "23732245",
   "metadata": {},
   "source": [
    "## Selecting the important features"
   ]
  },
  {
   "cell_type": "code",
   "execution_count": null,
   "id": "1cc680d1",
   "metadata": {},
   "outputs": [],
   "source": [
    "# .corr() is used to find the pairwise correlation of all columns in the dataframe. Any null values are automatically excluded\n",
    "corr = full_df.corr()\n",
    "corr"
   ]
  },
  {
   "cell_type": "code",
   "execution_count": null,
   "id": "e7432305",
   "metadata": {},
   "outputs": [],
   "source": [
    "# select the features and create the final dataset\n",
    "training_df= df_new.drop(columns=['company_category', 'province'])\n"
   ]
  },
  {
   "cell_type": "code",
   "execution_count": 78,
   "id": "ce0d49a6",
   "metadata": {},
   "outputs": [
    {
     "data": {
      "text/plain": [
       "ebit                 0\n",
       "total_liabilities    0\n",
       "net_added_value      0\n",
       "staff_costs          0\n",
       "current_revenue      0\n",
       "next_year_revenue    0\n",
       "Large                0\n",
       "Medium sized         0\n",
       "Small                0\n",
       "Very large           0\n",
       "Antwerp              0\n",
       "East-Flanders        0\n",
       "Limburg              0\n",
       "Vlaams Brabant       0\n",
       "West-Flanders        0\n",
       "dtype: int64"
      ]
     },
     "execution_count": 78,
     "metadata": {},
     "output_type": "execute_result"
    }
   ],
   "source": [
    "training_df.isna().sum()"
   ]
  }
 ],
 "metadata": {
  "kernelspec": {
   "display_name": "Python 3.9.13 64-bit",
   "language": "python",
   "name": "python3"
  },
  "language_info": {
   "codemirror_mode": {
    "name": "ipython",
    "version": 3
   },
   "file_extension": ".py",
   "mimetype": "text/x-python",
   "name": "python",
   "nbconvert_exporter": "python",
   "pygments_lexer": "ipython3",
   "version": "3.9.13"
  },
  "vscode": {
   "interpreter": {
    "hash": "82ed002fa2d4956f5c6aec99bcefe0f73a9f79882f3c9e2319b14958a5896ac5"
   }
  }
 },
 "nbformat": 4,
 "nbformat_minor": 5
}
