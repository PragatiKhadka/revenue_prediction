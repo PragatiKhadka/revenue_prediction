{
 "cells": [
  {
   "cell_type": "markdown",
   "id": "99795ae6",
   "metadata": {},
   "source": [
    "# Machine Learning (revenue_prediction)"
   ]
  },
  {
   "cell_type": "code",
   "execution_count": 52,
   "id": "36be3d3e",
   "metadata": {},
   "outputs": [],
   "source": [
    "# Packages / libraries\n",
    "import os\n",
    "import numpy as np \n",
    "import pandas as pd\n",
    "from matplotlib import pyplot as plt\n",
    "import seaborn as sns\n",
    "from sklearn.linear_model import LinearRegression\n",
    "from sklearn.model_selection import train_test_split\n",
    "from sklearn.metrics import r2_score, explained_variance_score, mean_absolute_error, mean_squared_error\n",
    "from math import sqrt\n",
    "import json\n",
    "import datetime "
   ]
  },
  {
   "cell_type": "markdown",
   "id": "5aad68a4",
   "metadata": {},
   "source": [
    "## Loading the Raw Data"
   ]
  },
  {
   "cell_type": "code",
   "execution_count": 15,
   "id": "8f498dbb",
   "metadata": {},
   "outputs": [],
   "source": [
    "# Loading the data\n",
    "\n",
    "with open(r\"C:\\Users\\user\\Downloads\\accounton_data.json\\accounton_data.json\",'r') as f:\n",
    "    raw_data = json.loads(f.read())"
   ]
  },
  {
   "cell_type": "code",
   "execution_count": 41,
   "id": "3971ae1f",
   "metadata": {},
   "outputs": [],
   "source": [
    "# Flatten data\n",
    "data = pd.json_normalize(raw_data)"
   ]
  },
  {
   "cell_type": "markdown",
   "id": "6eb85b53",
   "metadata": {},
   "source": [
    "# Data Preprocessing"
   ]
  },
  {
   "cell_type": "code",
   "execution_count": null,
   "id": "051e9f6e",
   "metadata": {},
   "outputs": [],
   "source": [
    "# convert the CreationDate column into DateTime type Delet the companies the created after 2019 because it had many NaN values\n",
    "data['creation_date'] = pd.to_datetime(data['creation_date']).datetime.to_period('Y')"
   ]
  },
  {
   "cell_type": "markdown",
   "id": "3e2b0a0e",
   "metadata": {},
   "source": [
    "##  Checking for NULL Values"
   ]
  },
  {
   "cell_type": "code",
   "execution_count": 20,
   "id": "c940d90e",
   "metadata": {},
   "outputs": [
    {
     "data": {
      "text/plain": [
       "company_name            0\n",
       "nace_code               0\n",
       "vat_number              0\n",
       "zipcode                 0\n",
       "city                    0\n",
       "                    ...  \n",
       "staff_costs.2019    31132\n",
       "staff_costs.2018    31569\n",
       "staff_costs.2016    32485\n",
       "staff_costs.2017    33830\n",
       "staff_costs.2015    23800\n",
       "Length: 75, dtype: int64"
      ]
     },
     "execution_count": 20,
     "metadata": {},
     "output_type": "execute_result"
    }
   ],
   "source": [
    "# Checking for null values\n",
    "data.isnull().sum()"
   ]
  },
  {
   "cell_type": "code",
   "execution_count": 54,
   "id": "92e2201a",
   "metadata": {},
   "outputs": [],
   "source": [
    "df1 = data[data['ebit.2019'].notna()]\n",
    "# df1"
   ]
  },
  {
   "cell_type": "markdown",
   "id": "83b32683",
   "metadata": {},
   "source": [
    "## Checking for the duplicated values"
   ]
  },
  {
   "cell_type": "code",
   "execution_count": 29,
   "id": "4d011c99",
   "metadata": {},
   "outputs": [
    {
     "data": {
      "text/plain": [
       "0        False\n",
       "1        False\n",
       "2        False\n",
       "3        False\n",
       "4        False\n",
       "         ...  \n",
       "49999    False\n",
       "50000    False\n",
       "50001    False\n",
       "50002    False\n",
       "50003    False\n",
       "Length: 50004, dtype: bool"
      ]
     },
     "execution_count": 29,
     "metadata": {},
     "output_type": "execute_result"
    }
   ],
   "source": [
    "# checking the duplicated company\n",
    "bool_series = data.duplicated()\n",
    "bool_series"
   ]
  }
 ],
 "metadata": {
  "kernelspec": {
   "display_name": "Python 3.9.13 64-bit",
   "language": "python",
   "name": "python3"
  },
  "language_info": {
   "codemirror_mode": {
    "name": "ipython",
    "version": 3
   },
   "file_extension": ".py",
   "mimetype": "text/x-python",
   "name": "python",
   "nbconvert_exporter": "python",
   "pygments_lexer": "ipython3",
   "version": "3.9.13"
  },
  "vscode": {
   "interpreter": {
    "hash": "82ed002fa2d4956f5c6aec99bcefe0f73a9f79882f3c9e2319b14958a5896ac5"
   }
  }
 },
 "nbformat": 4,
 "nbformat_minor": 5
}
